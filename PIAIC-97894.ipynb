{
 "cells": [
  {
   "cell_type": "code",
   "execution_count": 55,
   "metadata": {},
   "outputs": [
    {
     "name": "stdout",
     "output_type": "stream",
     "text": [
      "Names in alphabetical order:\n",
      "Ali\n",
      "Nadeem\n",
      "Suleman\n",
      "Zeeshan\n"
     ]
    }
   ],
   "source": [
    "#Exercise 3-1: Names... \n",
    "# Store the names of a few of your friends in a list called `names`.\n",
    "# Print each person’s name by accessing each element in the list, one at a time.\n",
    "\n",
    "# Create a list called 'names' containing your friends' names\n",
    "names = [\"Suleman\", \"Zeeshan\", \"Nadeem\", \"Ali\"]\n",
    "# Sort the list in ascending order\n",
    "names.sort()\n",
    "print(\"Names in alphabetical order:\")\n",
    "for name in names:\n",
    "    print(f'{name}')"
   ]
  },
  {
   "cell_type": "code",
   "execution_count": 56,
   "metadata": {},
   "outputs": [
    {
     "name": "stdout",
     "output_type": "stream",
     "text": [
      "Hello, Ali! Hope you're having a great day.\n",
      "Hello, Nadeem! Hope you're having a great day.\n",
      "Hello, Suleman! Hope you're having a great day.\n",
      "Hello, Zeeshan! Hope you're having a great day.\n"
     ]
    }
   ],
   "source": [
    "# Exercise 3-2: Greetings\n",
    "# Start with the list you used in Exercise 3-1,\n",
    "# but instead of just printing each person’s name,\n",
    "# print a message to them.\n",
    "# The text of each message should be the same, but each message\n",
    "# should be personalized with the person’s name.\n",
    "\n",
    "for name in names:\n",
    "    print(f\"Hello, {name}! Hope you're having a great day.\")"
   ]
  },
  {
   "cell_type": "code",
   "execution_count": 57,
   "metadata": {},
   "outputs": [
    {
     "name": "stdout",
     "output_type": "stream",
     "text": [
      "I would like to own a Honda Car.\n",
      "I would like to own a Suzuki Car.\n",
      "I would like to own a BMW Car.\n",
      "I would like to own a Road Prince 150.\n",
      "I would like to own a Honda 150.\n"
     ]
    }
   ],
   "source": [
    "# Exercise 3-3: Your Own List\n",
    "# Think of your favorite mode of transportation,\n",
    "# such as a motorcycle or a car, and make a list that stores several examples.\n",
    "# Use your list to print a series of statements about these items, such as \n",
    "# “I would like to own a Honda motorcycle.”\n",
    "\n",
    "modes_of_transportation = [\"Honda Car\", \"Suzuki Car\", \"BMW Car\", \"Road Prince 150\", \"Honda 150\"]\n",
    "\n",
    "for mode in modes_of_transportation:\n",
    "    print(f\"I would like to own a {mode}.\")"
   ]
  },
  {
   "cell_type": "code",
   "execution_count": 58,
   "metadata": {},
   "outputs": [
    {
     "name": "stdout",
     "output_type": "stream",
     "text": [
      "Dear Rizwan,\n",
      "\n",
      "You are invited to a dinner at my Home.\n",
      "\n",
      "\n",
      "Dear Shaheen Afredi,\n",
      "\n",
      "You are invited to a dinner at my Home.\n",
      "\n",
      "\n",
      "Dear Meer Hamza,\n",
      "\n",
      "You are invited to a dinner at my Home.\n",
      "\n",
      "\n"
     ]
    }
   ],
   "source": [
    "# Exercise 3-4: Guest List\n",
    "# If you could invite anyone, living or deceased, to dinner, who would you invite?\n",
    "# Make a list that includes at least three people you’d like to invite to dinner.\n",
    "# Then use your list to print a message to each person, inviting them to dinner.\n",
    "\n",
    "guests = [\"Rizwan\", \"Shaheen Afredi\", \"Meer Hamza\"]  \n",
    "\n",
    "for guest in guests:\n",
    "    print(f\"Dear {guest},\\n\\nYou are invited to a dinner at my Home.\\n\\n\")\n",
    "    "
   ]
  },
  {
   "cell_type": "code",
   "execution_count": 59,
   "metadata": {},
   "outputs": [
    {
     "name": "stdout",
     "output_type": "stream",
     "text": [
      "\n",
      "Unfortunately, Shaheen can't make it to the dinner.\n",
      "\n",
      "\n",
      "Sending out new invitations...\n",
      "\n",
      "Dear Rizwan,\n",
      "\n",
      "You are invited to a dinner at my Home.\n",
      "\n",
      "\n",
      "Dear Meer Hamza,\n",
      "\n",
      "You are invited to a dinner at my Home.\n",
      "\n",
      "\n",
      "Dear Hasan Ali,\n",
      "\n",
      "You are invited to a dinner at my Home.\n",
      "\n",
      "\n"
     ]
    }
   ],
   "source": [
    "# Exercise 3-5: Changing Guest List\n",
    "\n",
    "# Original guest list\n",
    "guests = [\"Rizwan\", \"Shaheen\", \"Meer Hamza\"]  \n",
    "\n",
    "# Guest who can't make it\n",
    "guest_cant_make_it = \"Shaheen\"\n",
    "print(f\"\\nUnfortunately, {guest_cant_make_it} can't make it to the dinner.\\n\")\n",
    "\n",
    "# Replace the guest who can't make it with a new guest\n",
    "guests.remove(guest_cant_make_it)  # Remove the guest\n",
    "guests.append(\"Hasan Ali\")  # Add the new guest\n",
    "\n",
    "# Print new invitations\n",
    "print(\"\\nSending out new invitations...\\n\")\n",
    "for guest in guests:\n",
    "    print(f\"Dear {guest},\\n\\nYou are invited to a dinner at my Home.\\n\\n\")"
   ]
  },
  {
   "cell_type": "code",
   "execution_count": 60,
   "metadata": {},
   "outputs": [
    {
     "name": "stdout",
     "output_type": "stream",
     "text": [
      "\n",
      "Great news! We found a bigger dinner table, so we can invite more guests!\n",
      "\n",
      "\n",
      "Sending out new invitations...\n",
      "\n",
      "Dear Saim,\n",
      "\n",
      "You are invited to a dinner at my Home.\n",
      "\n",
      "\n",
      "['Saim', 'Rizwan', 'Babar', 'Hassan Ali', 'Meer Hamza', 'Kamran Gulam']\n",
      "Dear Rizwan,\n",
      "\n",
      "You are invited to a dinner at my Home.\n",
      "\n",
      "\n",
      "['Saim', 'Rizwan', 'Babar', 'Hassan Ali', 'Meer Hamza', 'Kamran Gulam']\n",
      "Dear Babar,\n",
      "\n",
      "You are invited to a dinner at my Home.\n",
      "\n",
      "\n",
      "['Saim', 'Rizwan', 'Babar', 'Hassan Ali', 'Meer Hamza', 'Kamran Gulam']\n",
      "Dear Hassan Ali,\n",
      "\n",
      "You are invited to a dinner at my Home.\n",
      "\n",
      "\n",
      "['Saim', 'Rizwan', 'Babar', 'Hassan Ali', 'Meer Hamza', 'Kamran Gulam']\n",
      "Dear Meer Hamza,\n",
      "\n",
      "You are invited to a dinner at my Home.\n",
      "\n",
      "\n",
      "['Saim', 'Rizwan', 'Babar', 'Hassan Ali', 'Meer Hamza', 'Kamran Gulam']\n",
      "Dear Kamran Gulam,\n",
      "\n",
      "You are invited to a dinner at my Home.\n",
      "\n",
      "\n",
      "['Saim', 'Rizwan', 'Babar', 'Hassan Ali', 'Meer Hamza', 'Kamran Gulam']\n"
     ]
    }
   ],
   "source": [
    "# Exercise 3-6: More Guests\n",
    "# Original guest list (from Exercise 3-5)\n",
    "guests = [\"Rizwan\", \"Hassan Ali\", \"Meer Hamza\"]\n",
    "\n",
    "# Announce the bigger table\n",
    "print(\"\\nGreat news! We found a bigger dinner table, so we can invite more guests!\\n\")\n",
    "\n",
    "# Add new guests using insert() and append()\n",
    "guests.insert(0, \"Saim\")  # Add to the beginning\n",
    "guests.insert(len(guests) // 2, \"Babar\")  # Add to the middle\n",
    "guests.append(\"Kamran Gulam\")  # Add to the end\n",
    "\n",
    "# Print new invitations\n",
    "print(\"\\nSending out new invitations...\\n\")\n",
    "for guest in guests:\n",
    "    print(f\"Dear {guest},\\n\\nYou are invited to a dinner at my Home.\\n\\n\")\n",
    "    print(guests)"
   ]
  },
  {
   "cell_type": "code",
   "execution_count": 61,
   "metadata": {},
   "outputs": [
    {
     "name": "stdout",
     "output_type": "stream",
     "text": [
      "\n",
      "Unfortunately, the new dinner table won't arrive in time. I can only invite two people for dinner.\n",
      "\n",
      "Dear Kamran Gulam,\n",
      "\n",
      "I'm so sorry, but due to limited space, I can no longer invite you to dinner.\n",
      "\n",
      "\n",
      "Dear Meer Hamza,\n",
      "\n",
      "I'm so sorry, but due to limited space, I can no longer invite you to dinner.\n",
      "\n",
      "\n",
      "Dear Hassan Ali,\n",
      "\n",
      "I'm so sorry, but due to limited space, I can no longer invite you to dinner.\n",
      "\n",
      "\n",
      "Dear Babar,\n",
      "\n",
      "I'm so sorry, but due to limited space, I can no longer invite you to dinner.\n",
      "\n",
      "\n",
      "Dear Saim,\n",
      "\n",
      "You're still invited to dinner! I'm looking forward to seeing you.\n",
      "\n",
      "\n",
      "Dear Rizwan,\n",
      "\n",
      "You're still invited to dinner! I'm looking forward to seeing you.\n",
      "\n",
      "\n",
      "Guest list: []\n"
     ]
    }
   ],
   "source": [
    "# Exercise 3-7: Shrinking Guest List\n",
    "\n",
    "# Guest list (from Exercise 3-6)\n",
    "guests = [\"Saim\", \"Rizwan\", \"Babar\", \"Hassan Ali\", \"Meer Hamza\", \"Kamran Gulam\"]\n",
    "\n",
    "# Inform about limited space\n",
    "print(\"\\nUnfortunately, the new dinner table won't arrive in time. I can only invite two people for dinner.\\n\")\n",
    "\n",
    "# Remove guests until only two remain\n",
    "while len(guests) > 2:\n",
    "    removed_guest = guests.pop()\n",
    "    print(f\"Dear {removed_guest},\\n\\nI'm so sorry, but due to limited space, I can no longer invite you to dinner.\\n\\n\")\n",
    "\n",
    "# Inform the remaining guests\n",
    "for guest in guests:\n",
    "    print(f\"Dear {guest},\\n\\nYou're still invited to dinner! I'm looking forward to seeing you.\\n\\n\")\n",
    "\n",
    "# Empty the list using del\n",
    "del guests[:]\n",
    "\n",
    "# Verify the list is empty\n",
    "print(f\"Guest list: {guests}\")"
   ]
  },
  {
   "cell_type": "code",
   "execution_count": 74,
   "metadata": {},
   "outputs": [
    {
     "name": "stdout",
     "output_type": "stream",
     "text": [
      "Original List : ['Pakistan', 'England', 'Australia', 'New zealand', 'USA']\n",
      "\n",
      "List in Alphabetical order : ['Australia', 'England', 'New zealand', 'Pakistan', 'USA']\n",
      "\n",
      "Original List is Unchanged : ['Pakistan', 'England', 'Australia', 'New zealand', 'USA']\n",
      "\n",
      "List in Reverse Alphabetical order : ['USA', 'Pakistan', 'New zealand', 'England', 'Australia']\n",
      "\n",
      "Original List : ['Pakistan', 'England', 'Australia', 'New zealand', 'USA']\n",
      "\n",
      "Reverse the order of the list : ['USA', 'New zealand', 'Australia', 'England', 'Pakistan']\n",
      "\n",
      "Reverse the order of the list again : ['Pakistan', 'England', 'Australia', 'New zealand', 'USA']\n",
      "\n",
      "Sort list in Alphabetical order : ['Australia', 'England', 'New zealand', 'Pakistan', 'USA']\n",
      "\n",
      "Sort the list in reverse alphabetical order : ['USA', 'Pakistan', 'New zealand', 'England', 'Australia']\n"
     ]
    }
   ],
   "source": [
    "# Exercise 3-8: Seeing the World\n",
    "# Store locations in a list\n",
    "places = ['Pakistan', 'England', 'Australia', 'New zealand', 'USA']\n",
    "\n",
    "# Print the original list\n",
    "print(f'Original List : {places}\\n')\n",
    "\n",
    "# Print the list in alphabetical order without modifying the original list\n",
    "print(f\"List in Alphabetical order : {sorted(places)}\\n\")\n",
    "\n",
    "# Show that the original list is unchanged\n",
    "print(f\"Original List is Unchanged : {places}\\n\")\n",
    "\n",
    "# Print the list in reverse alphabetical order without modifying the original list\n",
    "print(f\"List in Reverse Alphabetical order : {sorted(places, reverse=True)}\\n\")\n",
    "\n",
    "# Show that the original list is unchanged\n",
    "print(f\"Original List : {places}\\n\")\n",
    "\n",
    "# Reverse the order of the list and print it\n",
    "places.reverse()\n",
    "print(f\"Reverse the order of the list : {places}\\n\")\n",
    "\n",
    "# Reverse the order of the list again to restore the original order and print it\n",
    "places.reverse()\n",
    "print(f\"Reverse the order of the list again : {places}\\n\")\n",
    "\n",
    "# Sort the list in alphabetical order and print it\n",
    "places.sort()\n",
    "print(f\"Sort list in Alphabetical order : {places}\\n\")\n",
    "\n",
    "# Sort the list in reverse alphabetical order and print it\n",
    "places.sort(reverse=True)\n",
    "print(f\"Sort the list in reverse alphabetical order : {places}\")"
   ]
  },
  {
   "cell_type": "code",
   "execution_count": 64,
   "metadata": {},
   "outputs": [
    {
     "name": "stdout",
     "output_type": "stream",
     "text": [
      "\n",
      "We are inviting 6 people to dinner.\n",
      "\n"
     ]
    }
   ],
   "source": [
    "# Exercise 3-9: Dinner Guests\n",
    "# Guest list (from  3-4 to 3-7  exercise)\n",
    "guests = [\"Saim\", \"Rizwan\", \"Babar\", \"Hassan Ali\", \"Meer Hamza\", \"Kamran Gulam\"]\n",
    "\n",
    "# Print the number of people being invited\n",
    "number_of_guests = len(guests)\n",
    "print(f\"\\nWe are inviting {number_of_guests} people to dinner.\\n\")\n"
   ]
  }
 ],
 "metadata": {
  "kernelspec": {
   "display_name": "Python 3",
   "language": "python",
   "name": "python3"
  },
  "language_info": {
   "codemirror_mode": {
    "name": "ipython",
    "version": 3
   },
   "file_extension": ".py",
   "mimetype": "text/x-python",
   "name": "python",
   "nbconvert_exporter": "python",
   "pygments_lexer": "ipython3",
   "version": "3.13.1"
  }
 },
 "nbformat": 4,
 "nbformat_minor": 2
}
